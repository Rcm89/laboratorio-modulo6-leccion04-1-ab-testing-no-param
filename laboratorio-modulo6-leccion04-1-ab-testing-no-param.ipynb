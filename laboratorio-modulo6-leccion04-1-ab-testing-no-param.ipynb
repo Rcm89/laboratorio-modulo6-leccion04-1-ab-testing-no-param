{
 "cells": [
  {
   "cell_type": "markdown",
   "metadata": {},
   "source": [
    "![hackio](https://github.com/Hack-io-Data/Imagenes/blob/main/01-LogosHackio/logo_celeste@4x.png?raw=true)\n"
   ]
  },
  {
   "cell_type": "markdown",
   "metadata": {},
   "source": [
    "# Laboratorio A/B Testing No Paramétricos\n",
    "\n",
    "**Aerolínea:** \n",
    "Alas del Mundo\n",
    "\n",
    "**Descripción de la Aerolínea**\n",
    "\n",
    "Alas del Mundo es una aerolínea internacional que opera una amplia red de rutas a nivel mundial. La compañía se enorgullece de ofrecer vuelos cómodos y asequibles a una variedad de destinos, atrayendo a una diversa gama de clientes.\n",
    "\n",
    "**Objetivo del Análisis**\n",
    "\n",
    "El objetivo de este ejercicio es determinar si existe una diferencia significativa en el número de vuelos reservados entre pasajeros con diferentes niveles educativos y si existe una diferencia significativa entre el género de sus clientes y su salario. La aerolínea desea entender mejor a sus clientes para poder personalizar sus campañas de marketing y mejorar sus estrategias de ventas.\n",
    "\n",
    "**Set de datos**\n",
    "\n",
    "El conjunto de datos *alas_del_mundo.csv* contiene información sobre clientes de la aerolínea Alas del Mundo. A continuación, tenemos una descripción de lo que nos podemos encontrar en el conjunto de datos:\n",
    "\n",
    "- **Loyalty Number**: Número de registro de cada uno de los clientes.\n",
    "\n",
    "- **Province**: Provincia de residencia del cliente.\n",
    "\n",
    "- **City**: Ciudad de residencia del cliente.\n",
    "\n",
    "- **Gender**: Género con el que se identifica el cliente.\n",
    "\n",
    "- **Education**: Nivel educativo del cliente.\n",
    "\n",
    "- **Salary**: Salario anual del cliente.\n",
    "\n",
    "- **Loyalty Card**: Nivel que tiene el cliente dentro del programa de fidelización de la aerolínea.\n",
    "\n",
    "- **CLV**: Valor total del cliente para la aerolínea a lo largo de toda su relación.\n",
    "\n",
    "- **Enrollment Type**: Forma de registro del cliente a la aerolínea.\n",
    "\n",
    "- **Enrollment Year**: Año de inscripción.\n",
    "\n",
    "- **Enrollment Month**: Mes de inscripción. \n",
    "\n",
    "- **Year**: Año en el que se realizan los vuelos.\n",
    "\n",
    "- **Month**: Mes en el que se realizan los vuelos.\n",
    "\n",
    "- **Flights Booked**: Vuelos reservados por el cliente en un mes y año concretos.\n",
    "\n",
    "- **Distance**: Distancia de vuelo del cliente en un mes y año concreto\n",
    "\n",
    "- **Points Accumulated**: Puntos acumulados por el cliente en un mes y año concretos.\n",
    "\n",
    "## Ejercicio 1:\n",
    "\n",
    "Antes de realizar el experimento A/B y formular hipótesis, es fundamental comprender a fondo el conjunto de datos y sus características. Para lograr esto, debes llevar a cabo un análisis exploratorio detallado de los datos (EDA), con el fin de familiarizarte con ellos y entender la información disponible.\n",
    "\n"
   ]
  },
  {
   "cell_type": "code",
   "execution_count": 56,
   "metadata": {},
   "outputs": [],
   "source": [
    "import pandas as pd\n",
    "import numpy as np\n",
    "from scipy import stats\n",
    "from scipy.stats import mode\n",
    "import matplotlib.pyplot as plt\n",
    "import seaborn as sns\n",
    "import statistics as st \n",
    "from scipy import stats  \n",
    "\n",
    "from scipy.stats import skew,kurtosis "
   ]
  },
  {
   "cell_type": "code",
   "execution_count": 57,
   "metadata": {},
   "outputs": [],
   "source": [
    "df_alas_del_mundo=pd.read_csv('datos/alas_del_mundo.csv')"
   ]
  },
  {
   "cell_type": "markdown",
   "metadata": {},
   "source": [
    "Procedemos con el EDA. En primer lugar sacamos información general sobre la estructura del archivo"
   ]
  },
  {
   "cell_type": "code",
   "execution_count": 58,
   "metadata": {},
   "outputs": [
    {
     "name": "stdout",
     "output_type": "stream",
     "text": [
      "<class 'pandas.core.frame.DataFrame'>\n",
      "RangeIndex: 405624 entries, 0 to 405623\n",
      "Data columns (total 16 columns):\n",
      " #   Column              Non-Null Count   Dtype  \n",
      "---  ------              --------------   -----  \n",
      " 0   Loyalty Number      405624 non-null  int64  \n",
      " 1   Province            405624 non-null  object \n",
      " 2   City                405624 non-null  object \n",
      " 3   Gender              405624 non-null  object \n",
      " 4   Education           405624 non-null  object \n",
      " 5   Salary              302952 non-null  float64\n",
      " 6   Loyalty Card        405624 non-null  object \n",
      " 7   CLV                 405624 non-null  float64\n",
      " 8   Enrollment Type     405624 non-null  object \n",
      " 9   Enrollment Year     405624 non-null  int64  \n",
      " 10  Enrollment Month    405624 non-null  int64  \n",
      " 11  Year                405624 non-null  int64  \n",
      " 12  Month               405624 non-null  int64  \n",
      " 13  Flights Booked      405624 non-null  int64  \n",
      " 14  Distance            405624 non-null  int64  \n",
      " 15  Points Accumulated  405624 non-null  float64\n",
      "dtypes: float64(3), int64(7), object(6)\n",
      "memory usage: 49.5+ MB\n"
     ]
    }
   ],
   "source": [
    "df_alas_del_mundo.info()"
   ]
  },
  {
   "cell_type": "code",
   "execution_count": 59,
   "metadata": {},
   "outputs": [
    {
     "data": {
      "text/html": [
       "<div>\n",
       "<style scoped>\n",
       "    .dataframe tbody tr th:only-of-type {\n",
       "        vertical-align: middle;\n",
       "    }\n",
       "\n",
       "    .dataframe tbody tr th {\n",
       "        vertical-align: top;\n",
       "    }\n",
       "\n",
       "    .dataframe thead th {\n",
       "        text-align: right;\n",
       "    }\n",
       "</style>\n",
       "<table border=\"1\" class=\"dataframe\">\n",
       "  <thead>\n",
       "    <tr style=\"text-align: right;\">\n",
       "      <th></th>\n",
       "      <th>Loyalty Number</th>\n",
       "      <th>Salary</th>\n",
       "      <th>CLV</th>\n",
       "      <th>Enrollment Year</th>\n",
       "      <th>Enrollment Month</th>\n",
       "      <th>Year</th>\n",
       "      <th>Month</th>\n",
       "      <th>Flights Booked</th>\n",
       "      <th>Distance</th>\n",
       "      <th>Points Accumulated</th>\n",
       "    </tr>\n",
       "  </thead>\n",
       "  <tbody>\n",
       "    <tr>\n",
       "      <th>count</th>\n",
       "      <td>405624.000000</td>\n",
       "      <td>302952.000000</td>\n",
       "      <td>405624.000000</td>\n",
       "      <td>405624.000000</td>\n",
       "      <td>405624.000000</td>\n",
       "      <td>405624.000000</td>\n",
       "      <td>405624.000000</td>\n",
       "      <td>405624.000000</td>\n",
       "      <td>405624.000000</td>\n",
       "      <td>405624.000000</td>\n",
       "    </tr>\n",
       "    <tr>\n",
       "      <th>mean</th>\n",
       "      <td>550037.873084</td>\n",
       "      <td>79268.825953</td>\n",
       "      <td>7991.976226</td>\n",
       "      <td>2015.252529</td>\n",
       "      <td>6.668008</td>\n",
       "      <td>2017.500000</td>\n",
       "      <td>6.500000</td>\n",
       "      <td>4.115052</td>\n",
       "      <td>1208.880059</td>\n",
       "      <td>123.692721</td>\n",
       "    </tr>\n",
       "    <tr>\n",
       "      <th>std</th>\n",
       "      <td>258935.286969</td>\n",
       "      <td>34992.133508</td>\n",
       "      <td>6863.663857</td>\n",
       "      <td>1.979427</td>\n",
       "      <td>3.399766</td>\n",
       "      <td>0.500001</td>\n",
       "      <td>3.452057</td>\n",
       "      <td>5.225518</td>\n",
       "      <td>1433.155320</td>\n",
       "      <td>146.599831</td>\n",
       "    </tr>\n",
       "    <tr>\n",
       "      <th>min</th>\n",
       "      <td>100018.000000</td>\n",
       "      <td>-58486.000000</td>\n",
       "      <td>1898.010000</td>\n",
       "      <td>2012.000000</td>\n",
       "      <td>1.000000</td>\n",
       "      <td>2017.000000</td>\n",
       "      <td>1.000000</td>\n",
       "      <td>0.000000</td>\n",
       "      <td>0.000000</td>\n",
       "      <td>0.000000</td>\n",
       "    </tr>\n",
       "    <tr>\n",
       "      <th>25%</th>\n",
       "      <td>326961.000000</td>\n",
       "      <td>59262.000000</td>\n",
       "      <td>3985.320000</td>\n",
       "      <td>2014.000000</td>\n",
       "      <td>4.000000</td>\n",
       "      <td>2017.000000</td>\n",
       "      <td>3.750000</td>\n",
       "      <td>0.000000</td>\n",
       "      <td>0.000000</td>\n",
       "      <td>0.000000</td>\n",
       "    </tr>\n",
       "    <tr>\n",
       "      <th>50%</th>\n",
       "      <td>550834.000000</td>\n",
       "      <td>73479.000000</td>\n",
       "      <td>5776.340000</td>\n",
       "      <td>2015.000000</td>\n",
       "      <td>7.000000</td>\n",
       "      <td>2017.500000</td>\n",
       "      <td>6.500000</td>\n",
       "      <td>1.000000</td>\n",
       "      <td>488.000000</td>\n",
       "      <td>50.000000</td>\n",
       "    </tr>\n",
       "    <tr>\n",
       "      <th>75%</th>\n",
       "      <td>772194.000000</td>\n",
       "      <td>88612.000000</td>\n",
       "      <td>8936.820000</td>\n",
       "      <td>2017.000000</td>\n",
       "      <td>10.000000</td>\n",
       "      <td>2018.000000</td>\n",
       "      <td>9.250000</td>\n",
       "      <td>8.000000</td>\n",
       "      <td>2336.000000</td>\n",
       "      <td>239.000000</td>\n",
       "    </tr>\n",
       "    <tr>\n",
       "      <th>max</th>\n",
       "      <td>999986.000000</td>\n",
       "      <td>407228.000000</td>\n",
       "      <td>83325.380000</td>\n",
       "      <td>2018.000000</td>\n",
       "      <td>12.000000</td>\n",
       "      <td>2018.000000</td>\n",
       "      <td>12.000000</td>\n",
       "      <td>21.000000</td>\n",
       "      <td>6293.000000</td>\n",
       "      <td>676.500000</td>\n",
       "    </tr>\n",
       "  </tbody>\n",
       "</table>\n",
       "</div>"
      ],
      "text/plain": [
       "       Loyalty Number         Salary            CLV  Enrollment Year  \\\n",
       "count   405624.000000  302952.000000  405624.000000    405624.000000   \n",
       "mean    550037.873084   79268.825953    7991.976226      2015.252529   \n",
       "std     258935.286969   34992.133508    6863.663857         1.979427   \n",
       "min     100018.000000  -58486.000000    1898.010000      2012.000000   \n",
       "25%     326961.000000   59262.000000    3985.320000      2014.000000   \n",
       "50%     550834.000000   73479.000000    5776.340000      2015.000000   \n",
       "75%     772194.000000   88612.000000    8936.820000      2017.000000   \n",
       "max     999986.000000  407228.000000   83325.380000      2018.000000   \n",
       "\n",
       "       Enrollment Month           Year          Month  Flights Booked  \\\n",
       "count     405624.000000  405624.000000  405624.000000   405624.000000   \n",
       "mean           6.668008    2017.500000       6.500000        4.115052   \n",
       "std            3.399766       0.500001       3.452057        5.225518   \n",
       "min            1.000000    2017.000000       1.000000        0.000000   \n",
       "25%            4.000000    2017.000000       3.750000        0.000000   \n",
       "50%            7.000000    2017.500000       6.500000        1.000000   \n",
       "75%           10.000000    2018.000000       9.250000        8.000000   \n",
       "max           12.000000    2018.000000      12.000000       21.000000   \n",
       "\n",
       "            Distance  Points Accumulated  \n",
       "count  405624.000000       405624.000000  \n",
       "mean     1208.880059          123.692721  \n",
       "std      1433.155320          146.599831  \n",
       "min         0.000000            0.000000  \n",
       "25%         0.000000            0.000000  \n",
       "50%       488.000000           50.000000  \n",
       "75%      2336.000000          239.000000  \n",
       "max      6293.000000          676.500000  "
      ]
     },
     "execution_count": 59,
     "metadata": {},
     "output_type": "execute_result"
    }
   ],
   "source": [
    "df_alas_del_mundo.describe()"
   ]
  },
  {
   "cell_type": "markdown",
   "metadata": {},
   "source": [
    "La columna Salary tiene nulos y valores negativos. El resto parecen estar en orden y con tipos de datos coherentes a las categorías de datos"
   ]
  },
  {
   "cell_type": "code",
   "execution_count": 60,
   "metadata": {},
   "outputs": [],
   "source": [
    "valores_nulos_salary = df_alas_del_mundo['Salary'].isnull().sum()"
   ]
  },
  {
   "cell_type": "code",
   "execution_count": 61,
   "metadata": {},
   "outputs": [
    {
     "data": {
      "text/plain": [
       "405624"
      ]
     },
     "execution_count": 61,
     "metadata": {},
     "output_type": "execute_result"
    }
   ],
   "source": [
    "total_registros= df_alas_del_mundo.shape[0]\n",
    "total_registros"
   ]
  },
  {
   "cell_type": "code",
   "execution_count": 62,
   "metadata": {},
   "outputs": [
    {
     "data": {
      "text/plain": [
       "np.float64(25.31211170936631)"
      ]
     },
     "execution_count": 62,
     "metadata": {},
     "output_type": "execute_result"
    }
   ],
   "source": [
    "#Calculamos el porcentaje de nulos de la columna salario\n",
    "porcentaje_nulos_salary = (valores_nulos_salary / total_registros) * 100\n",
    "porcentaje_nulos_salary"
   ]
  },
  {
   "cell_type": "markdown",
   "metadata": {},
   "source": [
    "Vamos a familiarizarnos con las distribuciones de nuestras columnas. Generamos visualizaciones"
   ]
  },
  {
   "cell_type": "code",
   "execution_count": null,
   "metadata": {},
   "outputs": [
    {
     "data": {
      "image/png": "[encoded data removed]",
      "text/plain": [
       "<Figure size 1000x500 with 2 Axes>"
      ]
     },
     "metadata": {},
     "output_type": "display_data"
    },
    {
     "data": {
      "image/png": "[encoded data removed]",
      "text/plain": [
       "<Figure size 1200x600 with 2 Axes>"
      ]
     },
     "metadata": {},
     "output_type": "display_data"
    }
   ],
   "source": [
    "# Configuración general para gráficos\n",
    "sns.set(style=\"whitegrid\")\n",
    "#Definimos una funcion para las visualizaciones que analzian las distribuciones\n",
    "def generar_visualizaciones(dataframe):\n",
    "    plt.figure(figsize=(10, 5))\n",
    "    \n",
    "    graficos_categoricos = [\n",
    "        {'columna': 'Gender', 'color': 'skyblue', 'titulo': 'Distribución por Género'},\n",
    "        {'columna': 'Education', 'color': 'lightgreen', 'titulo': 'Distribución por Nivel Educativo', 'order': dataframe['Education'].value_counts().index}\n",
    "    ]\n",
    "    \n",
    "    # Gráficos de distribución de variables categóricas\n",
    "    for i, grafico in enumerate(graficos_categoricos, 1):\n",
    "        plt.subplot(1, 2, i)\n",
    "        sns.countplot(data=dataframe, x=grafico['columna'], color=grafico['color'], order=grafico.get('order'))\n",
    "        plt.title(grafico['titulo'])\n",
    "        plt.xticks(rotation=90)\n",
    "    \n",
    "    plt.tight_layout()\n",
    "    plt.show()\n",
    "    \n",
    "    # Figura para gráficos de distribución de variables numéricas\n",
    "    plt.figure(figsize=(12, 6))\n",
    "    \n",
    "    graficos_numericos = [\n",
    "        {'columna': 'Salary', 'titulo': 'Distribución del Salario'},\n",
    "        {'columna': 'Flights Booked', 'titulo': 'Distribución de Vuelos Reservados'}\n",
    "    ]\n",
    "    \n",
    "    # Gráficos de distribución de variables numéricas\n",
    "    for i, grafico in enumerate(graficos_numericos, 1):\n",
    "        plt.subplot(1, 2, i)\n",
    "        sns.histplot(dataframe[grafico['columna']].dropna(), kde=True)\n",
    "        plt.title(grafico['titulo'])\n",
    "    \n",
    "    plt.tight_layout()\n",
    "    plt.show()\n",
    "\n",
    "# Llamada a la función\n",
    "generar_visualizaciones(df_alas_del_mundo)\n"
   ]
  },
  {
   "cell_type": "markdown",
   "metadata": {},
   "source": [
    "Las visualizaciones proporcionan información relevante sobre la composición y variabilidad en el conjunto de datos:\n",
    "\n",
    "**Distribución por Género y Nivel Educativo:**\n",
    "\n",
    "La mayoría de los clientes están equilibrados en cuanto al género.\n",
    "Hay distintos niveles educativos, pero parece que algunos niveles tienen una mayor representación que otros, lo cual podría influir en los resultados del análisis A/B.\n",
    "\n",
    "**Distribución del Salario:**\n",
    "\n",
    "La distribución de los salarios muestra una inclinación hacia valores más bajos, con algunos valores extremos que indican un rango salarial amplio entre los clientes.\n",
    "\n",
    "**Distribución de Vuelos Reservados:**\n",
    "\n",
    "La mayoría de los clientes reservan pocos vuelos, pero también hay algunos que realizan un número considerable de reservas, sugiriendo que existen segmentos de clientes con patrones de reserva distintos."
   ]
  },
  {
   "cell_type": "markdown",
   "metadata": {},
   "source": [
    "## Ejercicio 2:\n",
    "Determina si existe una diferencia significativa en el número de vuelos reservados entre los diferentes niveles educativos.\n",
    "\n",
    " Pasos a seguir:\n",
    "\n",
    "   - Definición de la hipótesis.\n",
    "   - Prueba de hipótesis\n",
    "   - Análisis de resultados\n",
    "   - Conclusiones\n",
    "   \n"
   ]
  },
  {
   "cell_type": "markdown",
   "metadata": {},
   "source": [
    "### Definición de hipótesis"
   ]
  },
  {
   "cell_type": "markdown",
   "metadata": {},
   "source": [
    "**Hipótesis Nula (H₀):** No existe una diferencia significativa en el número de vuelos reservados entre los diferentes niveles educativos.\n",
    "\n",
    "\n",
    "**Hipótesis Alternativa (H₁):** Existe una diferencia significativa en el número de vuelos reservados entre los diferentes niveles educativos."
   ]
  },
  {
   "cell_type": "markdown",
   "metadata": {},
   "source": [
    "Vamos a intentar verificar las condiciones de normalidad, y si alguna no se verifica ya sabemos que debemos optar por los test no parametricos para testar nuestra hipotesis nula"
   ]
  },
  {
   "cell_type": "code",
   "execution_count": 65,
   "metadata": {},
   "outputs": [
    {
     "name": "stdout",
     "output_type": "stream",
     "text": [
      "Resultados de la Prueba de Normalidad de Kolmogorov-Smirnov por Nivel Educativo:\n",
      "                      Estadístico de Kolmogorov-Smirnov  Valor p\n",
      "Bachelor                                       0.273970      0.0\n",
      "College                                        0.271298      0.0\n",
      "Master                                         0.266404      0.0\n",
      "High School or Below                           0.267911      0.0\n",
      "Doctor                                         0.270323      0.0\n"
     ]
    }
   ],
   "source": [
    "# Definimos una función para realizar la prueba de Kolmogorov-Smirnov\n",
    "def prueba_normalidad_kolmogorov(dataframe, columna_grupo, columna_valor):\n",
    "    resultados_normalidad = {}\n",
    "    \n",
    "    for nivel in dataframe[columna_grupo].unique():\n",
    "        filtro_datos = dataframe[dataframe[columna_grupo] == nivel][columna_valor]\n",
    "        \n",
    "        estadistico, p_valor = stats.kstest(filtro_datos, 'norm', args=(filtro_datos.mean(), filtro_datos.std()))\n",
    "        \n",
    "        resultados_normalidad[nivel] = {\"Estadístico de Kolmogorov-Smirnov\": estadistico, \"Valor p\": p_valor}\n",
    "    \n",
    "    return pd.DataFrame(resultados_normalidad).T\n",
    "\n",
    "resultados_normalidad_df = prueba_normalidad_kolmogorov(df_alas_del_mundo, 'Education', 'Flights Booked')\n",
    "\n",
    "print(\"Resultados de la Prueba de Normalidad de Kolmogorov-Smirnov por Nivel Educativo:\")\n",
    "print(resultados_normalidad_df)\n"
   ]
  },
  {
   "cell_type": "markdown",
   "metadata": {},
   "source": [
    "El p-valor nos da 0. Luego la condicion de normalidad no se cumple. Tenemos que usar test no parametricos."
   ]
  },
  {
   "cell_type": "markdown",
   "metadata": {},
   "source": [
    "Vamos a decidir cual de las pruebas no paramétricas debemos usar."
   ]
  },
  {
   "cell_type": "code",
   "execution_count": 68,
   "metadata": {},
   "outputs": [],
   "source": [
    "def crear_lista_grupos(df, columna_grupo, columna_metrica):\n",
    "\n",
    "    lista_grupos = []\n",
    "\n",
    "    for valor in df[columna_grupo].unique():\n",
    "\n",
    "        datos_filtrados = df[df[columna_grupo] == valor][columna_metrica]\n",
    "        lista_grupos.append(datos_filtrados)\n",
    "\n",
    "    return lista_grupos\n",
    "\n",
    "\n"
   ]
  },
  {
   "cell_type": "code",
   "execution_count": 69,
   "metadata": {},
   "outputs": [],
   "source": [
    "\n",
    "def elegir_test(datos, dependencia=False):\n",
    "\n",
    "    if len(datos) > 2:\n",
    "        print('Test Krusal Wallis')\n",
    "        return stats.kruskal(*datos)\n",
    "\n",
    "    elif len(datos) == 2 and dependencia:\n",
    "        print('Wilcoxon')\n",
    "        return stats.wilcoxon(*datos)\n",
    "\n",
    "    elif len(datos) == 2 and not dependencia:\n",
    "        print('Test U')\n",
    "        return stats.mannwhitneyu(*datos)\n",
    "\n",
    "    else:\n",
    "        print('No hay test adecuado')"
   ]
  },
  {
   "cell_type": "code",
   "execution_count": 70,
   "metadata": {},
   "outputs": [],
   "source": [
    "grupos=crear_lista_grupos(df_alas_del_mundo, 'Education', 'Flights Booked')"
   ]
  },
  {
   "cell_type": "code",
   "execution_count": null,
   "metadata": {},
   "outputs": [
    {
     "name": "stdout",
     "output_type": "stream",
     "text": [
      "Test Krusal Wallis\n"
     ]
    }
   ],
   "source": [
    "test=elegir_test(grupos,False)"
   ]
  },
  {
   "cell_type": "code",
   "execution_count": 75,
   "metadata": {},
   "outputs": [],
   "source": [
    "(estadistico, p_valor)=test"
   ]
  },
  {
   "cell_type": "code",
   "execution_count": 76,
   "metadata": {},
   "outputs": [
    {
     "name": "stdout",
     "output_type": "stream",
     "text": [
      "El p_valor es 0.0012393337284342227\n"
     ]
    }
   ],
   "source": [
    "print(f\"El p_valor es {p_valor}\")"
   ]
  },
  {
   "cell_type": "code",
   "execution_count": 81,
   "metadata": {},
   "outputs": [
    {
     "name": "stdout",
     "output_type": "stream",
     "text": [
      "Existe una diferencia significativa en el número de vuelos reservados entre los diferentes niveles educativos.\n"
     ]
    }
   ],
   "source": [
    "# Interpretación del resultado\n",
    "if p_valor < 0.05:\n",
    "    print(\"Existe una diferencia significativa en el número de vuelos reservados entre los diferentes niveles educativos.\")\n",
    "else:\n",
    "    print(\"No se encontró una diferencia significativa en el número de vuelos reservados entre los diferentes niveles educativos.\")"
   ]
  },
  {
   "cell_type": "code",
   "execution_count": 88,
   "metadata": {},
   "outputs": [
    {
     "data": {
      "text/html": [
       "<div>\n",
       "<style scoped>\n",
       "    .dataframe tbody tr th:only-of-type {\n",
       "        vertical-align: middle;\n",
       "    }\n",
       "\n",
       "    .dataframe tbody tr th {\n",
       "        vertical-align: top;\n",
       "    }\n",
       "\n",
       "    .dataframe thead th {\n",
       "        text-align: right;\n",
       "    }\n",
       "</style>\n",
       "<table border=\"1\" class=\"dataframe\">\n",
       "  <thead>\n",
       "    <tr style=\"text-align: right;\">\n",
       "      <th></th>\n",
       "      <th>count</th>\n",
       "      <th>mean</th>\n",
       "      <th>std</th>\n",
       "      <th>min</th>\n",
       "      <th>25%</th>\n",
       "      <th>50%</th>\n",
       "      <th>75%</th>\n",
       "      <th>max</th>\n",
       "    </tr>\n",
       "    <tr>\n",
       "      <th>Education</th>\n",
       "      <th></th>\n",
       "      <th></th>\n",
       "      <th></th>\n",
       "      <th></th>\n",
       "      <th></th>\n",
       "      <th></th>\n",
       "      <th></th>\n",
       "      <th></th>\n",
       "    </tr>\n",
       "  </thead>\n",
       "  <tbody>\n",
       "    <tr>\n",
       "      <th>Bachelor</th>\n",
       "      <td>253752.0</td>\n",
       "      <td>4.091093</td>\n",
       "      <td>5.216995</td>\n",
       "      <td>0.0</td>\n",
       "      <td>0.0</td>\n",
       "      <td>1.0</td>\n",
       "      <td>8.0</td>\n",
       "      <td>21.0</td>\n",
       "    </tr>\n",
       "    <tr>\n",
       "      <th>College</th>\n",
       "      <td>102672.0</td>\n",
       "      <td>4.153012</td>\n",
       "      <td>5.242136</td>\n",
       "      <td>0.0</td>\n",
       "      <td>0.0</td>\n",
       "      <td>1.0</td>\n",
       "      <td>8.0</td>\n",
       "      <td>21.0</td>\n",
       "    </tr>\n",
       "    <tr>\n",
       "      <th>Doctor</th>\n",
       "      <td>17856.0</td>\n",
       "      <td>4.146281</td>\n",
       "      <td>5.250093</td>\n",
       "      <td>0.0</td>\n",
       "      <td>0.0</td>\n",
       "      <td>1.0</td>\n",
       "      <td>8.0</td>\n",
       "      <td>21.0</td>\n",
       "    </tr>\n",
       "    <tr>\n",
       "      <th>High School or Below</th>\n",
       "      <td>19008.0</td>\n",
       "      <td>4.155777</td>\n",
       "      <td>5.234551</td>\n",
       "      <td>0.0</td>\n",
       "      <td>0.0</td>\n",
       "      <td>1.0</td>\n",
       "      <td>8.0</td>\n",
       "      <td>21.0</td>\n",
       "    </tr>\n",
       "    <tr>\n",
       "      <th>Master</th>\n",
       "      <td>12336.0</td>\n",
       "      <td>4.184014</td>\n",
       "      <td>5.210294</td>\n",
       "      <td>0.0</td>\n",
       "      <td>0.0</td>\n",
       "      <td>1.0</td>\n",
       "      <td>8.0</td>\n",
       "      <td>21.0</td>\n",
       "    </tr>\n",
       "  </tbody>\n",
       "</table>\n",
       "</div>"
      ],
      "text/plain": [
       "                         count      mean       std  min  25%  50%  75%   max\n",
       "Education                                                                   \n",
       "Bachelor              253752.0  4.091093  5.216995  0.0  0.0  1.0  8.0  21.0\n",
       "College               102672.0  4.153012  5.242136  0.0  0.0  1.0  8.0  21.0\n",
       "Doctor                 17856.0  4.146281  5.250093  0.0  0.0  1.0  8.0  21.0\n",
       "High School or Below   19008.0  4.155777  5.234551  0.0  0.0  1.0  8.0  21.0\n",
       "Master                 12336.0  4.184014  5.210294  0.0  0.0  1.0  8.0  21.0"
      ]
     },
     "execution_count": 88,
     "metadata": {},
     "output_type": "execute_result"
    }
   ],
   "source": [
    "vuelos_por_nivel_educativo = df_alas_del_mundo.groupby('Education')['Flights Booked'].describe()\n",
    "vuelos_por_nivel_educativo\n",
    "\n"
   ]
  },
  {
   "cell_type": "markdown",
   "metadata": {},
   "source": [
    "Hacemos un box plot y de la distribucion en los diferenes gruos"
   ]
  },
  {
   "cell_type": "code",
   "execution_count": 89,
   "metadata": {},
   "outputs": [
    {
     "name": "stderr",
     "output_type": "stream",
     "text": [
      "C:\\Users\\Administrador\\AppData\\Local\\Temp\\ipykernel_17820\\739253729.py:4: FutureWarning: \n",
      "\n",
      "Passing `palette` without assigning `hue` is deprecated and will be removed in v0.14.0. Assign the `x` variable to `hue` and set `legend=False` for the same effect.\n",
      "\n",
      "  sns.boxplot(data=df_alas_del_mundo, x='Education', y='Flights Booked', palette=\"Set2\", order=df_alas_del_mundo['Education'].value_counts().index)\n"
     ]
    },
    {
     "data": {
      "image/png": "[encoded data removed]",
      "text/plain": [
       "<Figure size 1000x600 with 1 Axes>"
      ]
     },
     "metadata": {},
     "output_type": "display_data"
    }
   ],
   "source": [
    "plt.figure(figsize=(10, 6))\n",
    "sns.set(style=\"whitegrid\")\n",
    "\n",
    "sns.boxplot(data=df_alas_del_mundo, x='Education', y='Flights Booked', palette=\"Set2\", order=df_alas_del_mundo['Education'].value_counts().index)\n",
    "\n",
    "plt.title(\"Distribución de Vuelos Reservados por Nivel Educativo\")\n",
    "plt.xlabel(\"Nivel Educativo\")\n",
    "plt.ylabel(\"Vuelos Reservados\")\n",
    "plt.xticks(rotation=90)\n",
    "\n",
    "plt.tight_layout()\n",
    "plt.show()"
   ]
  },
  {
   "cell_type": "markdown",
   "metadata": {},
   "source": [
    "A la luz de esta visualización y la tabla anterior, vemos que a pesar de los que nos decia el test, en la practica no existen diferencias. Una posible explciación puede ser una elevada variabildiad entre subgrupos a la que el test de Krusal Willis es sensible"
   ]
  },
  {
   "cell_type": "markdown",
   "metadata": {},
   "source": [
    "Estudiamos la homoestaticidad"
   ]
  },
  {
   "cell_type": "code",
   "execution_count": 90,
   "metadata": {},
   "outputs": [
    {
     "name": "stdout",
     "output_type": "stream",
     "text": [
      "statistic = 3.17197452620469, p_valor = 0.01290681079552744\n"
     ]
    }
   ],
   "source": [
    "# Aplicamos el test de Bartlett usando los grupos generados por el groupby\n",
    "statistic, p_valor = stats.levene(*grupos)\n",
    "\n",
    "print(f\"statistic = {statistic}, p_valor = {p_valor}\")\n"
   ]
  },
  {
   "cell_type": "markdown",
   "metadata": {},
   "source": [
    "Hay una elevada variabilidad entre grupos lo cual puede falsear los resultados del test. Si el objetivo es tomar decisiones prácticas, podríamos concluir que estas diferencias probablemente no justifican acciones diferenciadas para cada grupo educativo, ya que visualmente y en términos de estadísticos, los grupos son bastante similares."
   ]
  },
  {
   "cell_type": "markdown",
   "metadata": {},
   "source": [
    "## Ejercicio 3:\n",
    "Determina si existe una diferencia significativa en el salario de los clientes en función del género de los mismos.\n",
    "\n",
    "Pasos a seguir:\n",
    "   - Definición de la hipótesis.\n",
    "   - Prueba de hipótesis\n",
    "   - Análisis de resultados\n",
    "   - Conclusiones"
   ]
  },
  {
   "cell_type": "markdown",
   "metadata": {},
   "source": [
    "**Hipótesis Nula (H₀):** No existe una diferencia significativa en el en el salario de los clientes en función del género de los mismos.\n",
    "\n",
    "**Hipótesis Alternativa (H₁):** Existe una diferencia significativa en el número de vuelos reservados entre los diferentes niveles educativos."
   ]
  },
  {
   "cell_type": "markdown",
   "metadata": {},
   "source": [
    "De manera analoga al ejercicio anterior tratamos de probar los requerimientos de las pruebas parametricas y cua´dno nos falle tiraremos por un test no parametrico"
   ]
  },
  {
   "cell_type": "markdown",
   "metadata": {},
   "source": [
    "Pero antes rellanamos los nulos de la columna Salary con la mediana"
   ]
  },
  {
   "cell_type": "code",
   "execution_count": 94,
   "metadata": {},
   "outputs": [
    {
     "name": "stderr",
     "output_type": "stream",
     "text": [
      "C:\\Users\\Administrador\\AppData\\Local\\Temp\\ipykernel_17820\\208479724.py:2: FutureWarning: A value is trying to be set on a copy of a DataFrame or Series through chained assignment using an inplace method.\n",
      "The behavior will change in pandas 3.0. This inplace method will never work because the intermediate object on which we are setting values always behaves as a copy.\n",
      "\n",
      "For example, when doing 'df[col].method(value, inplace=True)', try using 'df.method({col: value}, inplace=True)' or df[col] = df[col].method(value) instead, to perform the operation inplace on the original object.\n",
      "\n",
      "\n",
      "  df_alas_del_mundo['Salary'].fillna(mediana_salary, inplace=True)\n"
     ]
    }
   ],
   "source": [
    "mediana_salary = df_alas_del_mundo['Salary'].median()\n",
    "df_alas_del_mundo['Salary'].fillna(mediana_salary, inplace=True)\n"
   ]
  },
  {
   "cell_type": "code",
   "execution_count": 95,
   "metadata": {},
   "outputs": [
    {
     "data": {
      "text/html": [
       "<div>\n",
       "<style scoped>\n",
       "    .dataframe tbody tr th:only-of-type {\n",
       "        vertical-align: middle;\n",
       "    }\n",
       "\n",
       "    .dataframe tbody tr th {\n",
       "        vertical-align: top;\n",
       "    }\n",
       "\n",
       "    .dataframe thead th {\n",
       "        text-align: right;\n",
       "    }\n",
       "</style>\n",
       "<table border=\"1\" class=\"dataframe\">\n",
       "  <thead>\n",
       "    <tr style=\"text-align: right;\">\n",
       "      <th></th>\n",
       "      <th>Estadístico de Kolmogorov-Smirnov</th>\n",
       "      <th>Valor p</th>\n",
       "    </tr>\n",
       "  </thead>\n",
       "  <tbody>\n",
       "    <tr>\n",
       "      <th>Female</th>\n",
       "      <td>0.182072</td>\n",
       "      <td>0.0</td>\n",
       "    </tr>\n",
       "    <tr>\n",
       "      <th>Male</th>\n",
       "      <td>0.196354</td>\n",
       "      <td>0.0</td>\n",
       "    </tr>\n",
       "  </tbody>\n",
       "</table>\n",
       "</div>"
      ],
      "text/plain": [
       "        Estadístico de Kolmogorov-Smirnov  Valor p\n",
       "Female                           0.182072      0.0\n",
       "Male                             0.196354      0.0"
      ]
     },
     "execution_count": 95,
     "metadata": {},
     "output_type": "execute_result"
    }
   ],
   "source": [
    "#usamos la función definida en el ejercicio anterior para calcular la normaldiad\n",
    "resultados_normalidad_df = prueba_normalidad_kolmogorov(df_alas_del_mundo, 'Gender', 'Salary')\n",
    "resultados_normalidad_df"
   ]
  },
  {
   "cell_type": "markdown",
   "metadata": {},
   "source": [
    "no hay normalidad a la vista de los resultados del test ks. Usamos las mismas funciones que en el apartado anterior para aplicar el test no parametrico mas adecuado"
   ]
  },
  {
   "cell_type": "code",
   "execution_count": 96,
   "metadata": {},
   "outputs": [],
   "source": [
    "grupos=crear_lista_grupos(df_alas_del_mundo, 'Gender', 'Salary')"
   ]
  },
  {
   "cell_type": "code",
   "execution_count": 97,
   "metadata": {},
   "outputs": [
    {
     "name": "stdout",
     "output_type": "stream",
     "text": [
      "Test U\n"
     ]
    }
   ],
   "source": [
    "test=elegir_test(grupos,False)"
   ]
  },
  {
   "cell_type": "code",
   "execution_count": 98,
   "metadata": {},
   "outputs": [],
   "source": [
    "(estadistico, p_valor)=test"
   ]
  },
  {
   "cell_type": "code",
   "execution_count": 99,
   "metadata": {},
   "outputs": [
    {
     "name": "stdout",
     "output_type": "stream",
     "text": [
      "El p_valor es 7.713448534158202e-06\n"
     ]
    }
   ],
   "source": [
    "print(f\"El p_valor es {p_valor}\")"
   ]
  },
  {
   "cell_type": "markdown",
   "metadata": {},
   "source": [
    "El p-valor es muy pequeño por lo tanto se rechaza la hipotesis nula y hay evidencia estadistica significativa de que hay relación entre el genero y el sueldo. Veamos si en la práctica se aprecia"
   ]
  },
  {
   "cell_type": "code",
   "execution_count": 100,
   "metadata": {},
   "outputs": [
    {
     "data": {
      "text/html": [
       "<div>\n",
       "<style scoped>\n",
       "    .dataframe tbody tr th:only-of-type {\n",
       "        vertical-align: middle;\n",
       "    }\n",
       "\n",
       "    .dataframe tbody tr th {\n",
       "        vertical-align: top;\n",
       "    }\n",
       "\n",
       "    .dataframe thead th {\n",
       "        text-align: right;\n",
       "    }\n",
       "</style>\n",
       "<table border=\"1\" class=\"dataframe\">\n",
       "  <thead>\n",
       "    <tr style=\"text-align: right;\">\n",
       "      <th></th>\n",
       "      <th>count</th>\n",
       "      <th>mean</th>\n",
       "      <th>std</th>\n",
       "      <th>min</th>\n",
       "      <th>25%</th>\n",
       "      <th>50%</th>\n",
       "      <th>75%</th>\n",
       "      <th>max</th>\n",
       "    </tr>\n",
       "    <tr>\n",
       "      <th>Gender</th>\n",
       "      <th></th>\n",
       "      <th></th>\n",
       "      <th></th>\n",
       "      <th></th>\n",
       "      <th></th>\n",
       "      <th></th>\n",
       "      <th></th>\n",
       "      <th></th>\n",
       "    </tr>\n",
       "  </thead>\n",
       "  <tbody>\n",
       "    <tr>\n",
       "      <th>Female</th>\n",
       "      <td>203640.0</td>\n",
       "      <td>77824.623453</td>\n",
       "      <td>29915.908323</td>\n",
       "      <td>-58486.0</td>\n",
       "      <td>64001.0</td>\n",
       "      <td>73479.0</td>\n",
       "      <td>83333.0</td>\n",
       "      <td>407228.0</td>\n",
       "    </tr>\n",
       "    <tr>\n",
       "      <th>Male</th>\n",
       "      <td>201984.0</td>\n",
       "      <td>77781.799192</td>\n",
       "      <td>30772.689275</td>\n",
       "      <td>-57297.0</td>\n",
       "      <td>63795.0</td>\n",
       "      <td>73479.0</td>\n",
       "      <td>82460.0</td>\n",
       "      <td>381124.0</td>\n",
       "    </tr>\n",
       "  </tbody>\n",
       "</table>\n",
       "</div>"
      ],
      "text/plain": [
       "           count          mean           std      min      25%      50%  \\\n",
       "Gender                                                                    \n",
       "Female  203640.0  77824.623453  29915.908323 -58486.0  64001.0  73479.0   \n",
       "Male    201984.0  77781.799192  30772.689275 -57297.0  63795.0  73479.0   \n",
       "\n",
       "            75%       max  \n",
       "Gender                     \n",
       "Female  83333.0  407228.0  \n",
       "Male    82460.0  381124.0  "
      ]
     },
     "execution_count": 100,
     "metadata": {},
     "output_type": "execute_result"
    }
   ],
   "source": [
    "salario_por_genero = df_alas_del_mundo.groupby('Gender')['Salary'].describe()\n",
    "salario_por_genero\n",
    "\n"
   ]
  },
  {
   "cell_type": "markdown",
   "metadata": {},
   "source": [
    "Vemos diferencias sutiles pero apreciales en la desviación cuadrtica y en el maximo. Las distribuciones aunque parecidas no son iguales y en lso valores extremos hay más diferencia. VAmos a ahcer una visualización para ilustrarlo"
   ]
  },
  {
   "cell_type": "code",
   "execution_count": 101,
   "metadata": {},
   "outputs": [
    {
     "name": "stderr",
     "output_type": "stream",
     "text": [
      "C:\\Users\\Administrador\\AppData\\Local\\Temp\\ipykernel_17820\\3842178864.py:4: FutureWarning: \n",
      "\n",
      "Passing `palette` without assigning `hue` is deprecated and will be removed in v0.14.0. Assign the `x` variable to `hue` and set `legend=False` for the same effect.\n",
      "\n",
      "  sns.boxplot(data=df_alas_del_mundo, x='Gender', y='Salary', palette=\"Set2\", order=df_alas_del_mundo['Gender'].value_counts().index)\n"
     ]
    },
    {
     "data": {
      "image/png": "[encoded data removed]",
      "text/plain": [
       "<Figure size 1000x600 with 1 Axes>"
      ]
     },
     "metadata": {},
     "output_type": "display_data"
    }
   ],
   "source": [
    "plt.figure(figsize=(10, 6))\n",
    "sns.set(style=\"whitegrid\")\n",
    "\n",
    "sns.boxplot(data=df_alas_del_mundo, x='Gender', y='Salary', palette=\"Set2\", order=df_alas_del_mundo['Gender'].value_counts().index)\n",
    "\n",
    "plt.title(\"Distribución de Salarios por Genero\")\n",
    "plt.xlabel(\"Genero\")\n",
    "plt.ylabel(\"Salario\")\n",
    "plt.xticks(rotation=45)\n",
    "\n",
    "plt.tight_layout()\n",
    "plt.show()"
   ]
  },
  {
   "cell_type": "markdown",
   "metadata": {},
   "source": [
    "La parte de la caja es casi identica, las diferencias las marcan los outliers que son más extremos en el caso de las mujeres "
   ]
  }
 ],
 "metadata": {
  "kernelspec": {
   "display_name": "Python 3",
   "language": "python",
   "name": "python3"
  },
  "language_info": {
   "codemirror_mode": {
    "name": "ipython",
    "version": 3
   },
   "file_extension": ".py",
   "mimetype": "text/x-python",
   "name": "python",
   "nbconvert_exporter": "python",
   "pygments_lexer": "ipython3",
   "version": "3.12.6"
  }
 },
 "nbformat": 4,
 "nbformat_minor": 2
}
